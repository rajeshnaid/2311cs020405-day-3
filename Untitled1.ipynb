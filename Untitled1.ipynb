{
 "cells": [
  {
   "cell_type": "code",
   "execution_count": 1,
   "id": "71bd275c-9c23-4281-8d29-d4fc8bd79f22",
   "metadata": {},
   "outputs": [
    {
     "name": "stdin",
     "output_type": "stream",
     "text": [
      "Enter marks for subject 1:  45\n",
      "Enter marks for subject 2:  90\n",
      "Enter marks for subject 3:  55\n"
     ]
    },
    {
     "name": "stdout",
     "output_type": "stream",
     "text": [
      "Grade: Fail\n"
     ]
    }
   ],
   "source": [
    "def calculate_grade():\n",
    "    try:\n",
    "        marks1 = float(input(\"Enter marks for subject 1: \"))\n",
    "        marks2 = float(input(\"Enter marks for subject 2: \"))\n",
    "        marks3 = float(input(\"Enter marks for subject 3: \"))\n",
    "        \n",
    "        average = (marks1 + marks2 + marks3) / 3\n",
    "        \n",
    "        if average >= 90:\n",
    "            print(\"Grade: A\")\n",
    "        elif 80 <= average < 90:\n",
    "            print(\"Grade: B\")\n",
    "        elif 70 <= average < 80:\n",
    "            print(\"Grade: C\")\n",
    "        else:\n",
    "            print(\"Grade: Fail\")\n",
    "    \n",
    "    except ValueError:\n",
    "        print(\"Please enter valid numeric marks.\")\n",
    "calculate_grade()"
   ]
  },
  {
   "cell_type": "code",
   "execution_count": null,
   "id": "8059d4de-5d62-4088-b20d-a5cc75431252",
   "metadata": {},
   "outputs": [],
   "source": []
  }
 ],
 "metadata": {
  "kernelspec": {
   "display_name": "Python [conda env:base] *",
   "language": "python",
   "name": "conda-base-py"
  },
  "language_info": {
   "codemirror_mode": {
    "name": "ipython",
    "version": 3
   },
   "file_extension": ".py",
   "mimetype": "text/x-python",
   "name": "python",
   "nbconvert_exporter": "python",
   "pygments_lexer": "ipython3",
   "version": "3.12.7"
  }
 },
 "nbformat": 4,
 "nbformat_minor": 5
}
